{
 "cells": [
  {
   "cell_type": "markdown",
   "id": "8a269e6c",
   "metadata": {
    "id": "xCjRvTxKOQuR"
   },
   "source": [
    "\n",
    "\n",
    "\n",
    "<p style=\"font-size:36px;text-align:center\"> <b><h3>Deep Text Corrector</h3></b> </p>"
   ]
  },
  {
   "cell_type": "markdown",
   "id": "078e334e",
   "metadata": {
    "id": "ylEEdGq_OQuU"
   },
   "source": [
    "<h1>1. Business Problem</h1>"
   ]
  },
  {
   "cell_type": "markdown",
   "id": "ad932028",
   "metadata": {
    "id": "enOmIXotOQuV"
   },
   "source": [
    "<h2>1.1. Description</h2>"
   ]
  },
  {
   "cell_type": "markdown",
   "id": "da80d741",
   "metadata": {
    "id": "_8luKZvfOQuX"
   },
   "source": [
    "<p> Source: https://www.cs.cornell.edu/~cristian/Cornell_Movie-Dialogs_Corpus.html </p>\n",
    "\n",
    "<p> Data: https://www.cs.cornell.edu/ or https://www.kaggle.com/datasets/rajathmc/cornell-moviedialog-corpus</p>\n",
    "<p> Download 'data movie_texts.txt'</p> \n",
    "\n",
    "<h6> Context:</h6>\n",
    "<p> Source: https://www.kaggle.com/datasets/rajathmc/cornell-moviedialog-corpus</p>\n",
    "\n",
    "<h6> Problem statement : </h6>\n",
    "<p> Given the sentence with incorrect grammar, return the setence with grammar corrected </p>"
   ]
  },
  {
   "cell_type": "markdown",
   "id": "b9992c49",
   "metadata": {
    "id": "eOO0zzCjOQuY"
   },
   "source": [
    "<h2>1.2. Source/Useful Links</h2>"
   ]
  },
  {
   "cell_type": "markdown",
   "id": "d4b4e9d9",
   "metadata": {
    "id": "lWkAIDUPOQuZ"
   },
   "source": [
    " Some articles and reference blogs about the problem statement"
   ]
  },
  {
   "cell_type": "markdown",
   "id": "ba733090",
   "metadata": {
    "id": "QQ-dIB1COQub"
   },
   "source": [
    "1. https://www.kaggle.com/datasets/rajathmc/cornell-moviedialog-corpus\n",
    "2. https://proceedings.neurips.cc/paper/2014/file/a14ac55a4f27472c5d894ec1c3c743d2-Paper.pdf\n",
    "3. https://arxiv.org/pdf/1409.3215.pdf"
   ]
  },
  {
   "cell_type": "markdown",
   "id": "cbcc5f73",
   "metadata": {
    "id": "0QJkDkarOQuc"
   },
   "source": [
    "<h2>1.3. Real-world/Business objectives and constraints.</h2>"
   ]
  },
  {
   "cell_type": "markdown",
   "id": "3025d7f0",
   "metadata": {
    "id": "CCLeDepSOQuc"
   },
   "source": [
    "* Decent latency requirement.\n",
    "* Interpretability is not much important.\n",
    "* Errors can be very costly."
   ]
  },
  {
   "cell_type": "markdown",
   "id": "10808b23",
   "metadata": {
    "id": "3AD25TPFOQud"
   },
   "source": [
    "<h1>2. Machine Learning Problem Formulation</h1>"
   ]
  },
  {
   "cell_type": "markdown",
   "id": "e8912f72",
   "metadata": {
    "id": "kJilLeTgOQuf"
   },
   "source": [
    "<h2>2.1. Data</h2>"
   ]
  },
  {
   "cell_type": "markdown",
   "id": "078f708d",
   "metadata": {
    "id": "GAkBG-9JOQuf"
   },
   "source": [
    "<h3>2.1.1. Data Overview</h3>"
   ]
  },
  {
   "cell_type": "markdown",
   "id": "1ca3f474",
   "metadata": {
    "id": "_xgJzFEHOQuh"
   },
   "source": [
    "- Source: https://www.kaggle.com/datasets/rajathmc/cornell-moviedialog-corpus\n",
    "- We have files README.txt, chameleons.pdf, movie_characters_metadata.txt, movie_conversations.txt, movie_lines.txt, movie_titles_metadata.txt, raw_script_urls.txt \n",
    "- Data file movie_lines.txt's information:\n",
    "    - contains the actual text of each utterance\n",
    "    - fields:\n",
    "        - lineID\n",
    "        - characterID (who uttered this phrase)\n",
    "        - movieID\n",
    "        - character name\n",
    "        - text of the utterance"
   ]
  },
  {
   "cell_type": "markdown",
   "id": "aa29fa4c",
   "metadata": {
    "id": "lUV7vz1iOQui"
   },
   "source": [
    "<h3>2.1.2. Example Data Point</h3>"
   ]
  },
  {
   "cell_type": "markdown",
   "id": "7ee0851a",
   "metadata": {
    "id": "t4UYmjTIOQuj"
   },
   "source": [
    "<h6>Data: movie_lines.txt</h6>\n",
    "<hr>\n",
    "lineID, characterID, movieID, character name, text of the utterance<br>\n",
    "---------------------------------------------------------------------------------------------------------<br>\n",
    "L872 +++$+++ u0 +++$+++ m0 +++$+++ BIANCA +++$+++ Okay -- you're gonna need to learn how to lie.\" <br>\n",
    "L1045 +++$+++ u0 +++$+++ m0 +++$+++ BIANCA +++$+++ They do not! <br>\n",
    "L869 +++$+++ u0 +++$+++ m0 +++$+++ BIANCA +++$+++ Like my fear of wearing pastels? <br>\n"
   ]
  },
  {
   "cell_type": "markdown",
   "id": "a5c65fc8",
   "metadata": {
    "id": "R3_NkUmXOQuk"
   },
   "source": [
    "<h2>2.2. Mapping the real-world problem to an ML problem</h2>"
   ]
  },
  {
   "cell_type": "markdown",
   "id": "56a3bb6b",
   "metadata": {
    "id": "89xF097mOQum"
   },
   "source": [
    "<h3>2.2.1. Type of Deep Learning Problem</h3>"
   ]
  },
  {
   "cell_type": "markdown",
   "id": "6751e3f3",
   "metadata": {
    "id": "TZqA3ItzOQun"
   },
   "source": [
    "<p>\n",
    "    The task is to correct the grammar of given sentence. It can be considered as Machine Tanslation task.\n",
    "</p>"
   ]
  },
  {
   "cell_type": "markdown",
   "id": "fa81aa3d",
   "metadata": {
    "id": "9uokTUjYOQuo"
   },
   "source": [
    "<h3>2.2.2. Performance Metric</h3>"
   ]
  },
  {
   "cell_type": "markdown",
   "id": "91d739d8",
   "metadata": {
    "id": "kg0MC7b6OQup"
   },
   "source": [
    "Metric(s): \n",
    "* BLEU Score"
   ]
  },
  {
   "cell_type": "markdown",
   "id": "6223e200",
   "metadata": {
    "id": "2rqQ1-rkOQuq"
   },
   "source": [
    "<h3>2.2.3. Deep Learing Objectives and Constraints</h3>"
   ]
  },
  {
   "cell_type": "markdown",
   "id": "b3c125a6",
   "metadata": {
    "id": "Kn3tUsrjOQur"
   },
   "source": [
    "<p> Objective: Given grammatically incorrect sentence, return the correct sentence.\n",
    "</p>\n",
    "<p> Constraints:\n",
    "</p>\n",
    "* Decent Interpretability<br>\n",
    "* No Target Variable<br>\n",
    "* Decent Latency constraints"
   ]
  },
  {
   "cell_type": "markdown",
   "id": "7927d4e0",
   "metadata": {
    "id": "EPkaNa1NOQus"
   },
   "source": [
    "<h2>2.3. Datasets</h2>"
   ]
  },
  {
   "cell_type": "markdown",
   "id": "12da95ac",
   "metadata": {
    "id": "rKjsBtT0OQut"
   },
   "source": [
    "We use datafile 'movie_lines.txt'\n",
    "- The file has 304714 datapoints containing the actual text of each utterance"
   ]
  },
  {
   "cell_type": "markdown",
   "id": "76c59d48",
   "metadata": {
    "id": "j0VVGc0_OQuu"
   },
   "source": [
    "<h1>3. Text Preprocessing</h1>"
   ]
  },
  {
   "cell_type": "markdown",
   "id": "dd75de90",
   "metadata": {
    "id": "M7AMKFKcOQu1"
   },
   "source": [
    "<h2>3.1 Reading Data</h2>"
   ]
  },
  {
   "cell_type": "code",
   "execution_count": 1,
   "id": "b259628d",
   "metadata": {},
   "outputs": [],
   "source": [
    "import warnings\n",
    "warnings.filterwarnings(\"ignore\")\n",
    "import pandas as pd\n",
    "import os\n",
    "import regex as re\n",
    "from tqdm import tqdm\n",
    "import seaborn as sns\n",
    "import matplotlib.pyplot as plt\n",
    "import numpy as np\n",
    "import pickle\n",
    "import random"
   ]
  },
  {
   "cell_type": "code",
   "execution_count": 2,
   "id": "7c115f8f",
   "metadata": {},
   "outputs": [],
   "source": [
    "movie_lines = open(os.getcwd()+'\\data\\\\movie_lines.txt', encoding='utf-8', errors='ignore').read().split('\\n') "
   ]
  },
  {
   "cell_type": "code",
   "execution_count": 3,
   "id": "91b07972",
   "metadata": {},
   "outputs": [
    {
     "data": {
      "text/plain": [
       "304714"
      ]
     },
     "execution_count": 3,
     "metadata": {},
     "output_type": "execute_result"
    }
   ],
   "source": [
    "len(movie_lines)"
   ]
  },
  {
   "cell_type": "code",
   "execution_count": 4,
   "id": "6053540b",
   "metadata": {},
   "outputs": [
    {
     "data": {
      "text/plain": [
       "['L1045 +++$+++ u0 +++$+++ m0 +++$+++ BIANCA +++$+++ They do not!',\n",
       " 'L1044 +++$+++ u2 +++$+++ m0 +++$+++ CAMERON +++$+++ They do to!',\n",
       " 'L985 +++$+++ u0 +++$+++ m0 +++$+++ BIANCA +++$+++ I hope so.',\n",
       " 'L984 +++$+++ u2 +++$+++ m0 +++$+++ CAMERON +++$+++ She okay?',\n",
       " \"L925 +++$+++ u0 +++$+++ m0 +++$+++ BIANCA +++$+++ Let's go.\",\n",
       " 'L924 +++$+++ u2 +++$+++ m0 +++$+++ CAMERON +++$+++ Wow',\n",
       " \"L872 +++$+++ u0 +++$+++ m0 +++$+++ BIANCA +++$+++ Okay -- you're gonna need to learn how to lie.\",\n",
       " 'L871 +++$+++ u2 +++$+++ m0 +++$+++ CAMERON +++$+++ No',\n",
       " 'L870 +++$+++ u0 +++$+++ m0 +++$+++ BIANCA +++$+++ I\\'m kidding.  You know how sometimes you just become this \"persona\"?  And you don\\'t know how to quit?',\n",
       " 'L869 +++$+++ u0 +++$+++ m0 +++$+++ BIANCA +++$+++ Like my fear of wearing pastels?']"
      ]
     },
     "execution_count": 4,
     "metadata": {},
     "output_type": "execute_result"
    }
   ],
   "source": [
    "movie_lines[:10]"
   ]
  },
  {
   "cell_type": "code",
   "execution_count": 5,
   "id": "965aa1a5",
   "metadata": {},
   "outputs": [],
   "source": [
    "#Extract only dialogues from the data\n",
    "lines__=[]\n",
    "for line in movie_lines:\n",
    "    lines__.append(line.lower().split('+++$+++ ')[-1])"
   ]
  },
  {
   "cell_type": "code",
   "execution_count": 6,
   "id": "6ec6d325",
   "metadata": {},
   "outputs": [
    {
     "data": {
      "text/plain": [
       "304714"
      ]
     },
     "execution_count": 6,
     "metadata": {},
     "output_type": "execute_result"
    }
   ],
   "source": [
    "len(lines__)"
   ]
  },
  {
   "cell_type": "code",
   "execution_count": 7,
   "id": "6fb808e7",
   "metadata": {},
   "outputs": [
    {
     "data": {
      "text/plain": [
       "['the \"real you\".',\n",
       " 'what good stuff?',\n",
       " \"i figured you'd get to the good stuff eventually.\",\n",
       " 'thank god!  if i had to hear one more story about your coiffure...',\n",
       " \"me.  this endless ...blonde babble. i'm like, boring myself.\",\n",
       " 'what crap?',\n",
       " 'do you listen to this crap?',\n",
       " 'no...',\n",
       " 'then guillermo says, \"if you go any lighter, you\\'re gonna look like an extra on 90210.\"',\n",
       " 'you always been this selfish?']"
      ]
     },
     "execution_count": 7,
     "metadata": {},
     "output_type": "execute_result"
    }
   ],
   "source": [
    "lines__[10:20]"
   ]
  },
  {
   "cell_type": "code",
   "execution_count": 8,
   "id": "6c37d5ea",
   "metadata": {},
   "outputs": [],
   "source": [
    "# https://stackoverflow.com/a/47091490/4084039\n",
    "def text_preprocessor(phrase):\n",
    "    \n",
    "    phrase = phrase.lower()\n",
    "    phrase = re.sub(r\"i'm\", \"i am\", phrase)\n",
    "    phrase = re.sub(r\"let's\", \"let us\", phrase)\n",
    "    phrase = re.sub(r\"he's\", \"he is\", phrase)\n",
    "    phrase = re.sub(r\"she's\", \"she is\", phrase)\n",
    "    phrase = re.sub(r\"it's\", \"it is\", phrase)\n",
    "    phrase = re.sub(r\"that's\", \"that is\", phrase)\n",
    "    phrase = re.sub(r\"what's\", \"that is\", phrase)\n",
    "    phrase = re.sub(r\"where's\", \"where is\", phrase)\n",
    "    phrase = re.sub(r\"how's\", \"how is\", phrase)\n",
    "    phrase = re.sub(r\"\\'ll\", \" will\", phrase)\n",
    "    phrase = re.sub(r\"\\'ve\", \" have\", phrase)\n",
    "    phrase = re.sub(r\"\\'re\", \" are\", phrase)\n",
    "    phrase = re.sub(r\"\\'d\", \" would\", phrase)\n",
    "    phrase = re.sub(r\"\\'re\", \" are\", phrase)\n",
    "\n",
    "    phrase = re.sub(r\"\\'s\", \" is\", phrase)\n",
    "    phrase = re.sub(r\"\\'m\", \" am\", phrase)\n",
    "    \n",
    "    phrase = re.sub(r\"don't\", \"do not\", phrase)\n",
    "    phrase = re.sub(r\"won't\", \"will not\", phrase)\n",
    "    phrase = re.sub(r\"can't\", \"cannot\", phrase)\n",
    "    \n",
    "    phrase = re.sub(r\"they ain't\", \"they are not\", phrase)\n",
    "    phrase = re.sub(r\"we ain't\", \"we are not\", phrase)\n",
    "    phrase = re.sub(r\"you ain't\", \"you are not\", phrase)\n",
    "    phrase = re.sub(r\"i ain't\", \"i am not\", phrase)\n",
    "    phrase = re.sub(r\"ain't\", \"is not\", phrase)\n",
    "    phrase = re.sub(r\"ain\\'t\", \"is not\", phrase)\n",
    "    phrase = re.sub(r\"n't\", \" not\", phrase)\n",
    "    phrase = re.sub(r\"\\'t\", \" not\", phrase)\n",
    "    phrase = re.sub(r\"n\\'t\", \" not\", phrase)\n",
    "    phrase = re.sub(r\"n'\", \"ng\", phrase)\n",
    "    phrase = re.sub(r\"'bout\", \"about\", phrase)\n",
    "    phrase = re.sub(r\"'til\", \"until\", phrase)\n",
    "\n",
    "\n",
    "    phrase = re.sub(r\"[-()\\\"#/@;:<>{}`+=~|]\", \"\", phrase)\n",
    "    phrase = re.sub(\"\\S*\\d\\S*\", \"\", phrase).strip()\n",
    "    phrase = re.sub('[^A-Za-z]+', ' ', phrase)\n",
    "    \n",
    "    return phrase"
   ]
  },
  {
   "cell_type": "code",
   "execution_count": 9,
   "id": "8a62f2ef",
   "metadata": {},
   "outputs": [],
   "source": [
    "text_corpus=pd.DataFrame(data=lines__, columns=['text'])"
   ]
  },
  {
   "cell_type": "code",
   "execution_count": 10,
   "id": "4df85707",
   "metadata": {},
   "outputs": [],
   "source": [
    "text_corpus=text_corpus"
   ]
  },
  {
   "cell_type": "code",
   "execution_count": 11,
   "id": "b77dd1bd",
   "metadata": {},
   "outputs": [
    {
     "data": {
      "text/plain": [
       "numpy.ndarray"
      ]
     },
     "execution_count": 11,
     "metadata": {},
     "output_type": "execute_result"
    }
   ],
   "source": [
    "type(text_corpus['text'].values)"
   ]
  },
  {
   "cell_type": "markdown",
   "id": "22f10482",
   "metadata": {},
   "source": [
    "<h2>3.1 Cleaning Data</h2>"
   ]
  },
  {
   "cell_type": "code",
   "execution_count": 12,
   "id": "f74a1e85",
   "metadata": {},
   "outputs": [
    {
     "name": "stderr",
     "output_type": "stream",
     "text": [
      "100%|████████████████████████████████████████████████████████████████████████| 304714/304714 [01:19<00:00, 3822.09it/s]\n"
     ]
    }
   ],
   "source": [
    "#clean the text corpus\n",
    "cleaned_text=[]\n",
    "for line in tqdm(text_corpus['text'].values):\n",
    "    #print(type(line))\n",
    "    line=text_preprocessor(line)\n",
    "    cleaned_text.append(line.strip())"
   ]
  },
  {
   "cell_type": "code",
   "execution_count": 13,
   "id": "65dd56e6",
   "metadata": {
    "scrolled": false
   },
   "outputs": [
    {
     "data": {
      "text/plain": [
       "['which one',\n",
       " 'do you think she might be interested in someone',\n",
       " 'well that is typical of her majesty is army appoint an engineer to do a soldier is work',\n",
       " 'um there are rumours that my lord chelmsford intends to make durnford second in command',\n",
       " 'lighting coghill cigar our good colonel dumford scored quite a coup with the sikali horse',\n",
       " 'so far only their scouts but we have had reports of a small impi farther north over there',\n",
       " 'and i assure you you do not in fact i would be obliged for your best advice what have your scouts seen',\n",
       " 'well i assure you sir i have no desire to create difficulties',\n",
       " 'i think chelmsford wants a good man on the border why he fears a flanking attack and requires a steady commander in reserve',\n",
       " 'lord chelmsford seems to want me to stay back with my basutos',\n",
       " 'i am to take the sikali with the main column to the river',\n",
       " 'your orders mr vereker',\n",
       " 'good ones yes mr vereker gentlemen who can ride and shoot',\n",
       " 'colonel durnford william vereker i hear you have been seeking officers',\n",
       " '']"
      ]
     },
     "execution_count": 13,
     "metadata": {},
     "output_type": "execute_result"
    }
   ],
   "source": [
    "cleaned_text[-15:]"
   ]
  },
  {
   "cell_type": "code",
   "execution_count": 14,
   "id": "20ae061f",
   "metadata": {},
   "outputs": [],
   "source": [
    "cleaned_text=pd.DataFrame(data=cleaned_text, columns=['text'])"
   ]
  },
  {
   "cell_type": "code",
   "execution_count": 15,
   "id": "71434262",
   "metadata": {},
   "outputs": [],
   "source": [
    "length_cleaned_text=list(cleaned_text['text'].str.split().apply(len))"
   ]
  },
  {
   "cell_type": "markdown",
   "id": "9ab3554c",
   "metadata": {},
   "source": [
    "<h2>4. Exploratory Data Analysis</h2>"
   ]
  },
  {
   "cell_type": "code",
   "execution_count": 16,
   "id": "13d017e5",
   "metadata": {},
   "outputs": [
    {
     "data": {
      "image/png": "[encoded data removed]",
      "text/plain": [
       "<Figure size 640x480 with 1 Axes>"
      ]
     },
     "metadata": {},
     "output_type": "display_data"
    }
   ],
   "source": [
    "#kde plot of word length in every sentence\n",
    "sns.kdeplot(x=length_cleaned_text)\n",
    "plt.show()"
   ]
  },
  {
   "cell_type": "code",
   "execution_count": 17,
   "id": "9b870ba8",
   "metadata": {},
   "outputs": [
    {
     "data": {
      "image/png": "[encoded data removed]",
      "text/plain": [
       "<Figure size 640x480 with 1 Axes>"
      ]
     },
     "metadata": {},
     "output_type": "display_data"
    }
   ],
   "source": [
    "sns.kdeplot(x=length_cleaned_text)\n",
    "plt.xlim((0,100))\n",
    "plt.show()"
   ]
  },
  {
   "cell_type": "code",
   "execution_count": 19,
   "id": "8a9d2c36",
   "metadata": {},
   "outputs": [
    {
     "data": {
      "text/plain": [
       "581"
      ]
     },
     "execution_count": 19,
     "metadata": {},
     "output_type": "execute_result"
    }
   ],
   "source": [
    "max(length_cleaned_text)"
   ]
  },
  {
   "cell_type": "code",
   "execution_count": 21,
   "id": "e109a8b0",
   "metadata": {},
   "outputs": [
    {
     "data": {
      "text/plain": [
       "0"
      ]
     },
     "execution_count": 21,
     "metadata": {},
     "output_type": "execute_result"
    }
   ],
   "source": [
    "min(length_cleaned_text)"
   ]
  },
  {
   "cell_type": "markdown",
   "id": "5a7883b8",
   "metadata": {},
   "source": [
    "### Observations\n",
    "- We can see that more than 90% of the dialogues have word length less than 24"
   ]
  },
  {
   "cell_type": "code",
   "execution_count": 22,
   "id": "b8bde845",
   "metadata": {},
   "outputs": [
    {
     "name": "stdout",
     "output_type": "stream",
     "text": [
      "[  0.   2.   3.   5.   6.   7.   9.  12.  16.  24. 581.]\n",
      "[ 24.  25.  27.  28.  30.  33.  36.  41.  47.  60. 581.]\n",
      "[ 62.          64.          67.          70.          74.\n",
      "  80.          86.861       96.         117.         580.99999999]\n"
     ]
    }
   ],
   "source": [
    "print(np.percentile(length_cleaned_text, np.arange(0,101,10)))\n",
    "print(np.percentile(length_cleaned_text, np.arange(90,101)))\n",
    "print(np.percentile(length_cleaned_text, np.arange(99.1,100.1, 0.1)))"
   ]
  },
  {
   "cell_type": "code",
   "execution_count": 23,
   "id": "dc2525ef",
   "metadata": {},
   "outputs": [
    {
     "data": {
      "text/plain": [
       "(304714, 1)"
      ]
     },
     "execution_count": 23,
     "metadata": {},
     "output_type": "execute_result"
    }
   ],
   "source": [
    "cleaned_text.shape"
   ]
  },
  {
   "cell_type": "code",
   "execution_count": 24,
   "id": "86445a9b",
   "metadata": {},
   "outputs": [],
   "source": [
    "mask=cleaned_text['text'].str.split().apply(len)"
   ]
  },
  {
   "cell_type": "code",
   "execution_count": 25,
   "id": "0064d4e8",
   "metadata": {},
   "outputs": [],
   "source": [
    "#keep only sentences that have word lenght of atmost 20\n",
    "cleaned_text_filtered=cleaned_text.loc[((mask > 1) & (mask < 21))]"
   ]
  },
  {
   "cell_type": "code",
   "execution_count": 26,
   "id": "d8f83594",
   "metadata": {},
   "outputs": [],
   "source": [
    "cleaned_text_filtered=cleaned_text_filtered.reset_index(drop=True)"
   ]
  },
  {
   "cell_type": "code",
   "execution_count": 27,
   "id": "f12ddfad",
   "metadata": {},
   "outputs": [
    {
     "data": {
      "text/plain": [
       "(240690, 1)"
      ]
     },
     "execution_count": 27,
     "metadata": {},
     "output_type": "execute_result"
    }
   ],
   "source": [
    "cleaned_text_filtered.shape"
   ]
  },
  {
   "cell_type": "code",
   "execution_count": 28,
   "id": "e4d4b76d",
   "metadata": {},
   "outputs": [
    {
     "name": "stdout",
     "output_type": "stream",
     "text": [
      "<class 'pandas.core.frame.DataFrame'>\n",
      "RangeIndex: 240690 entries, 0 to 240689\n",
      "Data columns (total 1 columns):\n",
      " #   Column  Non-Null Count   Dtype \n",
      "---  ------  --------------   ----- \n",
      " 0   text    240690 non-null  object\n",
      "dtypes: object(1)\n",
      "memory usage: 1.8+ MB\n"
     ]
    }
   ],
   "source": [
    "cleaned_text_filtered.info()"
   ]
  },
  {
   "cell_type": "code",
   "execution_count": 29,
   "id": "5cc95c3e",
   "metadata": {},
   "outputs": [],
   "source": [
    "cleaned_text_filtered.to_pickle(os.getcwd()+'\\data\\cleaned_filtered_text.pkl')"
   ]
  },
  {
   "cell_type": "code",
   "execution_count": 30,
   "id": "cc6069c8",
   "metadata": {},
   "outputs": [],
   "source": [
    "data=pd.read_pickle(os.getcwd()+'\\data\\cleaned_filtered_text.pkl')"
   ]
  },
  {
   "cell_type": "code",
   "execution_count": 31,
   "id": "3be79072",
   "metadata": {},
   "outputs": [
    {
     "data": {
      "text/plain": [
       "numpy.ndarray"
      ]
     },
     "execution_count": 31,
     "metadata": {},
     "output_type": "execute_result"
    }
   ],
   "source": [
    "type(data['text'].tail(10).values)"
   ]
  },
  {
   "cell_type": "markdown",
   "id": "b394403f",
   "metadata": {},
   "source": [
    "<h2>4. Data Perturbation</h2>\n",
    "<br>\n",
    "Since we don't have target data on which the data cant be trained, we take the movies dialogues and manually introduce some grammar mistakes. This purtubated data serves as target data "
   ]
  },
  {
   "cell_type": "code",
   "execution_count": 32,
   "id": "d3a801c5",
   "metadata": {},
   "outputs": [],
   "source": [
    "def perturbate_text(text):\n",
    "    choice_list=[1,2,3,4,5]\n",
    "    split_text=text.split()\n",
    "\n",
    "    #######################################       1           #################################################       \n",
    "        \n",
    "    if random.choice(choice_list) == 1:\n",
    "        if 'a' in split_text:\n",
    "            text=re.sub(r'\\ba\\b', '', text)\n",
    "\n",
    "        if 'an' in split_text:\n",
    "            text=re.sub(r'\\ban\\b', '', text)\n",
    "\n",
    "        if 'the' in split_text:\n",
    "            text=re.sub(r'\\bthe\\b', '', text)\n",
    "\n",
    "        if 'is' in split_text:\n",
    "            text=re.sub(r'\\bis\\b', 'is', text)\n",
    "\n",
    "        if 'are' in split_text:\n",
    "            text=re.sub(r'\\bare\\b', 'are', text)\n",
    "\n",
    "        if 'am' in split_text:\n",
    "            text=re.sub(r'\\bam\\b', 'am', text)\n",
    "\n",
    "        if 'was' in split_text:\n",
    "            text=re.sub(r'\\bwas\\b', 'was', text)\n",
    "\n",
    "        if 'were' in split_text:\n",
    "            text=re.sub(r'\\bwere\\b', 'were', text)\n",
    "\n",
    "        if 'he' in split_text:\n",
    "            text=re.sub(r'\\bhe\\b', 'he', text)\n",
    "\n",
    "        if 'she' in split_text:\n",
    "            text=re.sub(r'\\bshe\\b', 'she', text)\n",
    "\n",
    "        if 'it' in split_text:\n",
    "            text=re.sub(r'\\bit\\b', 'it', text)\n",
    "\n",
    "        if 'them' in split_text:\n",
    "            text=re.sub(r'\\bthem\\b', 'them', text)\n",
    "\n",
    "        if 'they' in split_text:\n",
    "            text=re.sub(r'\\bthey\\b', 'they', text)\n",
    "\n",
    "        if 'may' in split_text:\n",
    "            text=re.sub(r'\\bit\\b', '', text)\n",
    "\n",
    "        if 'then' in split_text:\n",
    "            text=re.sub(r'\\bthem\\b', 'then', text)\n",
    "\n",
    "        if 'their' in split_text:\n",
    "            text=re.sub(r'\\bthey\\b', '', text)\n",
    "        \n",
    "        if 'there' in split_text:\n",
    "            text=re.sub(r'\\there\\b', '', text)\n",
    "            \n",
    "    #######################################       2           #################################################       \n",
    "    \n",
    "    if random.choice(choice_list) == 2:\n",
    "        if 'a' in split_text:\n",
    "            text=re.sub(r'\\ba\\b', 'an', text)\n",
    "            \n",
    "        if 'an' in split_text:\n",
    "            text=re.sub(r'\\ban\\b', 'a', text)\n",
    "\n",
    "        if 'the' in split_text:\n",
    "            text=re.sub(r'\\bthe\\b', '', text)\n",
    "\n",
    "        if 'is' in split_text:\n",
    "            text=re.sub(r'\\bis\\b', 'is', text)\n",
    "\n",
    "        if 'are' in split_text:\n",
    "            text=re.sub(r'\\bare\\b', 'are', text)\n",
    "\n",
    "        if 'am' in split_text:\n",
    "            text=re.sub(r'\\bam\\b', 'am', text)\n",
    "\n",
    "        if 'was' in split_text:\n",
    "            text=re.sub(r'\\bwas\\b', 'were', text)\n",
    "\n",
    "        if 'were' in split_text:\n",
    "            text=re.sub(r'\\bwere\\b', 'was', text)\n",
    "\n",
    "        if 'he' in split_text:\n",
    "            text=re.sub(r'\\bhe\\b', 'he', text)\n",
    "\n",
    "        if 'she' in split_text:\n",
    "            text=re.sub(r'\\bshe\\b', 'she', text)\n",
    "\n",
    "        if 'it' in split_text:\n",
    "            text=re.sub(r'\\bit\\b', 'it', text)\n",
    "\n",
    "        if 'them' in split_text:\n",
    "            text=re.sub(r'\\bthem\\b', 'them', text)\n",
    "\n",
    "        if 'they' in split_text:\n",
    "            text=re.sub(r'\\bthey\\b', 'they', text)\n",
    "\n",
    "        if 'may' in split_text:\n",
    "            text=re.sub(r'\\bit\\b', '', text)\n",
    "\n",
    "        if 'then' in split_text:\n",
    "            text=re.sub(r'\\bthem\\b', 'then', text)\n",
    "\n",
    "        if 'their' in split_text:\n",
    "            text=re.sub(r'\\bthey\\b', '', text)\n",
    "        \n",
    "        if 'there' in split_text:\n",
    "            text=re.sub(r'\\there\\b', '', text)            \n",
    "            \n",
    "    #######################################       3           #################################################\n",
    "    \n",
    "    if random.choice(choice_list) == 3:\n",
    "        if 'a' in split_text:\n",
    "            text=re.sub(r'\\ba\\b', '', text)\n",
    "            \n",
    "        if 'an' in split_text:\n",
    "            text=re.sub(r'\\ban\\b', 'an', text)\n",
    "\n",
    "        if 'the' in split_text:\n",
    "            text=re.sub(r'\\bthe\\b', '', text)\n",
    "\n",
    "        if 'is' in split_text:\n",
    "            text=re.sub(r'\\bis\\b', 'is', text)\n",
    "\n",
    "        if 'are' in split_text:\n",
    "            text=re.sub(r'\\bare\\b', 'were', text)\n",
    "\n",
    "        if 'am' in split_text:\n",
    "            text=re.sub(r'\\bam\\b', '', text)\n",
    "\n",
    "        if 'was' in split_text:\n",
    "            text=re.sub(r'\\bwas\\b', '', text)\n",
    "\n",
    "        if 'were' in split_text:\n",
    "            text=re.sub(r'\\bwere\\b', '', text)\n",
    "\n",
    "        if 'he' in split_text:\n",
    "            text=re.sub(r'\\bhe\\b', 'he', text)\n",
    "\n",
    "        if 'she' in split_text:\n",
    "            text=re.sub(r'\\bshe\\b', 'she', text)\n",
    "\n",
    "        if 'it' in split_text:\n",
    "            text=re.sub(r'\\bit\\b', 'it', text)\n",
    "\n",
    "        if 'them' in split_text:\n",
    "            text=re.sub(r'\\bthem\\b', 'them', text)\n",
    "\n",
    "        if 'they' in split_text:\n",
    "            text=re.sub(r'\\bthey\\b', 'they', text)\n",
    "\n",
    "        if 'may' in split_text:\n",
    "            text=re.sub(r'\\bit\\b', 'may', text)\n",
    "\n",
    "        if 'then' in split_text:\n",
    "            text=re.sub(r'\\bthem\\b', 'then', text)\n",
    "\n",
    "        if 'their' in split_text:\n",
    "            text=re.sub(r'\\bthey\\b', 'they', text)\n",
    "        \n",
    "        if 'there' in split_text:\n",
    "            text=re.sub(r'\\there\\b', 'there', text)\n",
    "            \n",
    "            \n",
    "    #######################################      4          ################################################# \n",
    "    \n",
    "    if random.choice(choice_list) == 4:\n",
    "        if 'a' in split_text:\n",
    "            text=re.sub(r'\\ba\\b', '', text)\n",
    "            \n",
    "        if 'an' in split_text:\n",
    "            text=re.sub(r'\\ban\\b', 'an', text)\n",
    "\n",
    "        if 'the' in split_text:\n",
    "            text=re.sub(r'\\bthe\\b', '', text)\n",
    "\n",
    "        if 'is' in split_text:\n",
    "            text=re.sub(r'\\bis\\b', 'was', text)\n",
    "\n",
    "        if 'are' in split_text:\n",
    "            text=re.sub(r'\\bare\\b', 'are', text)\n",
    "\n",
    "        if 'am' in split_text:\n",
    "            text=re.sub(r'\\bam\\b', 'am', text)\n",
    "\n",
    "        if 'was' in split_text:\n",
    "            text=re.sub(r'\\bwas\\b', 'were', text)\n",
    "\n",
    "        if 'were' in split_text:\n",
    "            text=re.sub(r'\\bwere\\b', 'was', text)\n",
    "\n",
    "        if 'he' in split_text:\n",
    "            text=re.sub(r'\\bhe\\b', 'he', text)\n",
    "\n",
    "        if 'she' in split_text:\n",
    "            text=re.sub(r'\\bshe\\b', 'she', text)\n",
    "\n",
    "        if 'it' in split_text:\n",
    "            text=re.sub(r'\\bit\\b', 'it', text)\n",
    "\n",
    "        if 'them' in split_text:\n",
    "            text=re.sub(r'\\bthem\\b', 'them', text)\n",
    "\n",
    "        if 'they' in split_text:\n",
    "            text=re.sub(r'\\bthey\\b', 'they', text)\n",
    "            \n",
    "        if 'may' in split_text:\n",
    "            text=re.sub(r'\\bit\\b', 'may', text)\n",
    "\n",
    "        if 'then' in split_text:\n",
    "            text=re.sub(r'\\bthem\\b', 'then', text)\n",
    "            \n",
    "        if 'may' in split_text:\n",
    "            text=re.sub(r'\\bit\\b', 'would', text)\n",
    "\n",
    "        if 'then' in split_text:\n",
    "            text=re.sub(r'\\bthem\\b', 'than', text)\n",
    "\n",
    "        if 'their' in split_text:\n",
    "            text=re.sub(r'\\bthey\\b', 'there', text)\n",
    "        \n",
    "        if 'there' in split_text:\n",
    "            text=re.sub(r'\\there\\b', 'their', text)\n",
    "         \n",
    "    #######################################       5           ################################################# \n",
    "    \n",
    "    if random.choice(choice_list) == 5:\n",
    "        if 'a' in split_text:\n",
    "            text=re.sub(r'\\ba\\b', '', text)\n",
    "            \n",
    "        if 'an' in split_text:\n",
    "            text=re.sub(r'\\ban\\b', 'an', text)\n",
    "\n",
    "        if 'the' in split_text:\n",
    "            text=re.sub(r'\\bthe\\b', '', text)\n",
    "\n",
    "        if 'is' in split_text:\n",
    "            text=re.sub(r'\\bis\\b', '', text)\n",
    "\n",
    "        if 'are' in split_text:\n",
    "            text=re.sub(r'\\bare\\b', 'are', text)\n",
    "\n",
    "        if 'am' in split_text:\n",
    "            text=re.sub(r'\\bam\\b', 'am', text)\n",
    "\n",
    "        if 'was' in split_text:\n",
    "            text=re.sub(r'\\bwas\\b', 'was', text)\n",
    "\n",
    "        if 'were' in split_text:\n",
    "            text=re.sub(r'\\bwere\\b', 'were', text)\n",
    "\n",
    "        if 'he' in split_text:\n",
    "            text=re.sub(r'\\bhe\\b', '', text)\n",
    "\n",
    "        if 'she' in split_text:\n",
    "            text=re.sub(r'\\bshe\\b', '', text)\n",
    "\n",
    "        if 'it' in split_text:\n",
    "            text=re.sub(r'\\bit\\b', 'it', text)\n",
    "\n",
    "        if 'them' in split_text:\n",
    "            text=re.sub(r'\\bthem\\b', 'them', text)\n",
    "\n",
    "        if 'they' in split_text:\n",
    "            text=re.sub(r'\\bthey\\b', 'they', text)\n",
    "            \n",
    "        if 'may' in split_text:\n",
    "            text=re.sub(r'\\bit\\b', 'may', text)\n",
    "\n",
    "        if 'then' in split_text:\n",
    "            text=re.sub(r'\\bthem\\b', '', text)\n",
    "\n",
    "        if 'their' in split_text:\n",
    "            text=re.sub(r'\\bthey\\b', '', text)\n",
    "        \n",
    "        if 'there' in split_text:\n",
    "            text=re.sub(r'\\there\\b', '', text)\n",
    "         \n",
    "    return text.replace(\"  \", \" \").strip()"
   ]
  },
  {
   "cell_type": "code",
   "execution_count": 33,
   "id": "21cf3a4b",
   "metadata": {},
   "outputs": [],
   "source": [
    "perturbated_text=list()\n",
    "for text in data['text'].values:\n",
    "    perturbated_text.append(perturbate_text(text))"
   ]
  },
  {
   "cell_type": "code",
   "execution_count": 34,
   "id": "27f6e5ce",
   "metadata": {},
   "outputs": [],
   "source": [
    "data['perturbated text']=perturbated_text"
   ]
  },
  {
   "cell_type": "code",
   "execution_count": 35,
   "id": "fb6bfc6e",
   "metadata": {},
   "outputs": [
    {
     "data": {
      "text/plain": [
       "text                i looked for you back at the party but you alw...\n",
       "perturbated text    i looked for you back at party but you always ...\n",
       "Name: 21, dtype: object"
      ]
     },
     "execution_count": 35,
     "metadata": {},
     "output_type": "execute_result"
    }
   ],
   "source": [
    "data.loc[21]"
   ]
  },
  {
   "cell_type": "code",
   "execution_count": 36,
   "id": "225288ed",
   "metadata": {},
   "outputs": [
    {
     "data": {
      "text/html": [
       "<div>\n",
       "<style scoped>\n",
       "    .dataframe tbody tr th:only-of-type {\n",
       "        vertical-align: middle;\n",
       "    }\n",
       "\n",
       "    .dataframe tbody tr th {\n",
       "        vertical-align: top;\n",
       "    }\n",
       "\n",
       "    .dataframe thead th {\n",
       "        text-align: right;\n",
       "    }\n",
       "</style>\n",
       "<table border=\"1\" class=\"dataframe\">\n",
       "  <thead>\n",
       "    <tr style=\"text-align: right;\">\n",
       "      <th></th>\n",
       "      <th>text</th>\n",
       "      <th>perturbated text</th>\n",
       "    </tr>\n",
       "  </thead>\n",
       "  <tbody>\n",
       "    <tr>\n",
       "      <th>53822</th>\n",
       "      <td>so that is wrong</td>\n",
       "      <td>so that was wrong</td>\n",
       "    </tr>\n",
       "    <tr>\n",
       "      <th>17519</th>\n",
       "      <td>you are actually having sex with your own litt...</td>\n",
       "      <td>you are actually having sex with your own litt...</td>\n",
       "    </tr>\n",
       "    <tr>\n",
       "      <th>117154</th>\n",
       "      <td>it is a damn easy thing to play with</td>\n",
       "      <td>it is damn easy thing to play with</td>\n",
       "    </tr>\n",
       "    <tr>\n",
       "      <th>24315</th>\n",
       "      <td>oh bullshit</td>\n",
       "      <td>oh bullshit</td>\n",
       "    </tr>\n",
       "    <tr>\n",
       "      <th>82956</th>\n",
       "      <td>michael you are trying to scare me</td>\n",
       "      <td>michael you are trying to scare me</td>\n",
       "    </tr>\n",
       "    <tr>\n",
       "      <th>52978</th>\n",
       "      <td>what about it</td>\n",
       "      <td>what about it</td>\n",
       "    </tr>\n",
       "    <tr>\n",
       "      <th>212885</th>\n",
       "      <td>jeff jeff</td>\n",
       "      <td>jeff jeff</td>\n",
       "    </tr>\n",
       "    <tr>\n",
       "      <th>19641</th>\n",
       "      <td>people are not that simple</td>\n",
       "      <td>people were not that simple</td>\n",
       "    </tr>\n",
       "    <tr>\n",
       "      <th>78791</th>\n",
       "      <td>you you cannot even get from sausalito to san ...</td>\n",
       "      <td>you you cannot even get from sausalito to san ...</td>\n",
       "    </tr>\n",
       "    <tr>\n",
       "      <th>24374</th>\n",
       "      <td>then why weep for him</td>\n",
       "      <td>then why weep for him</td>\n",
       "    </tr>\n",
       "  </tbody>\n",
       "</table>\n",
       "</div>"
      ],
      "text/plain": [
       "                                                     text  \\\n",
       "53822                                    so that is wrong   \n",
       "17519   you are actually having sex with your own litt...   \n",
       "117154               it is a damn easy thing to play with   \n",
       "24315                                         oh bullshit   \n",
       "82956                  michael you are trying to scare me   \n",
       "52978                                       what about it   \n",
       "212885                                          jeff jeff   \n",
       "19641                          people are not that simple   \n",
       "78791   you you cannot even get from sausalito to san ...   \n",
       "24374                               then why weep for him   \n",
       "\n",
       "                                         perturbated text  \n",
       "53822                                   so that was wrong  \n",
       "17519   you are actually having sex with your own litt...  \n",
       "117154                 it is damn easy thing to play with  \n",
       "24315                                         oh bullshit  \n",
       "82956                  michael you are trying to scare me  \n",
       "52978                                       what about it  \n",
       "212885                                          jeff jeff  \n",
       "19641                         people were not that simple  \n",
       "78791   you you cannot even get from sausalito to san ...  \n",
       "24374                               then why weep for him  "
      ]
     },
     "execution_count": 36,
     "metadata": {},
     "output_type": "execute_result"
    }
   ],
   "source": [
    "data.sample(10)"
   ]
  },
  {
   "cell_type": "code",
   "execution_count": 37,
   "id": "e52690db",
   "metadata": {},
   "outputs": [],
   "source": [
    "data.to_pickle(os.getcwd()+'\\\\data\\\\text_perturbed_text.pkl')"
   ]
  },
  {
   "cell_type": "code",
   "execution_count": 38,
   "id": "a7197ed1",
   "metadata": {},
   "outputs": [
    {
     "data": {
      "text/plain": [
       "'C:\\\\Users\\\\Bazinga\\\\AAIC\\\\Deep Text Corrector'"
      ]
     },
     "execution_count": 38,
     "metadata": {},
     "output_type": "execute_result"
    }
   ],
   "source": [
    "os.getcwd()"
   ]
  },
  {
   "cell_type": "markdown",
   "id": "ce091a45",
   "metadata": {},
   "source": [
    "<h2>5. Teacher Forcing</h2>"
   ]
  },
  {
   "cell_type": "markdown",
   "id": "2731b822",
   "metadata": {},
   "source": [
    "The EOS token is important for the decoder as well: the explicit \"eos\" token allows the decoder to emit arbitrary-length sequences. The decoder will tell us when it's done emitting tokens: without an \"eos\" token, we would have no idea when the decoder is done talking to us and continuing to emit tokens will produce gibberish.\n",
    "\n",
    "The start-of-sequence (sos) token is more important for the decoder: the decoder will progress by taking the tokens it emits as inputs (along with the embedding and hidden state, or using the embedding to initialize the hidden state), so before it has emitted anything it needs a token of some kind to start with. Hence, the \"sos\" token."
   ]
  },
  {
   "cell_type": "code",
   "execution_count": 39,
   "id": "ff7cae9d",
   "metadata": {},
   "outputs": [
    {
     "data": {
      "text/html": [
       "<div>\n",
       "<style scoped>\n",
       "    .dataframe tbody tr th:only-of-type {\n",
       "        vertical-align: middle;\n",
       "    }\n",
       "\n",
       "    .dataframe tbody tr th {\n",
       "        vertical-align: top;\n",
       "    }\n",
       "\n",
       "    .dataframe thead th {\n",
       "        text-align: right;\n",
       "    }\n",
       "</style>\n",
       "<table border=\"1\" class=\"dataframe\">\n",
       "  <thead>\n",
       "    <tr style=\"text-align: right;\">\n",
       "      <th></th>\n",
       "      <th>enc_inp</th>\n",
       "      <th>dec_inp</th>\n",
       "      <th>dec_out</th>\n",
       "    </tr>\n",
       "  </thead>\n",
       "  <tbody>\n",
       "    <tr>\n",
       "      <th>100</th>\n",
       "      <td>i do care but i am a firm believer in doing so...</td>\n",
       "      <td>sos i do care but i am a firm believer in doin...</td>\n",
       "      <td>i do care but i am a firm believer in doing so...</td>\n",
       "    </tr>\n",
       "    <tr>\n",
       "      <th>101</th>\n",
       "      <td>like you care</td>\n",
       "      <td>sos like you care</td>\n",
       "      <td>like you care eos</td>\n",
       "    </tr>\n",
       "    <tr>\n",
       "      <th>102</th>\n",
       "      <td>listen i know you hate having to sit home beca...</td>\n",
       "      <td>sos listen i know you hate having to sit home ...</td>\n",
       "      <td>listen i know you hate having to sit home beca...</td>\n",
       "    </tr>\n",
       "    <tr>\n",
       "      <th>103</th>\n",
       "      <td>you are welcome</td>\n",
       "      <td>sos you are welcome</td>\n",
       "      <td>you are welcome eos</td>\n",
       "    </tr>\n",
       "    <tr>\n",
       "      <th>104</th>\n",
       "      <td>i really do not think i need any social advice...</td>\n",
       "      <td>sos i really do not think i need any social ad...</td>\n",
       "      <td>i really do not think i need any social advice...</td>\n",
       "    </tr>\n",
       "    <tr>\n",
       "      <th>105</th>\n",
       "      <td>bianca i need to talk to you i need to tell you</td>\n",
       "      <td>sos bianca i need to talk to you i need to tel...</td>\n",
       "      <td>bianca i need to talk to you i need to tell yo...</td>\n",
       "    </tr>\n",
       "    <tr>\n",
       "      <th>106</th>\n",
       "      <td>can we go now</td>\n",
       "      <td>sos can we go now</td>\n",
       "      <td>can we go now eos</td>\n",
       "    </tr>\n",
       "    <tr>\n",
       "      <th>107</th>\n",
       "      <td>you were so completely unbalanced</td>\n",
       "      <td>sos you are so completely unbalanced</td>\n",
       "      <td>you are so completely unbalanced eos</td>\n",
       "    </tr>\n",
       "    <tr>\n",
       "      <th>108</th>\n",
       "      <td>it was shakespeare maybe you have heard of him</td>\n",
       "      <td>sos it is shakespeare maybe you have heard of him</td>\n",
       "      <td>it is shakespeare maybe you have heard of him eos</td>\n",
       "    </tr>\n",
       "    <tr>\n",
       "      <th>109</th>\n",
       "      <td>like i am supposed to know what that even means</td>\n",
       "      <td>sos like i am supposed to know what that even ...</td>\n",
       "      <td>like i am supposed to know what that even mean...</td>\n",
       "    </tr>\n",
       "  </tbody>\n",
       "</table>\n",
       "</div>"
      ],
      "text/plain": [
       "                                               enc_inp  \\\n",
       "100  i do care but i am a firm believer in doing so...   \n",
       "101                                      like you care   \n",
       "102  listen i know you hate having to sit home beca...   \n",
       "103                                    you are welcome   \n",
       "104  i really do not think i need any social advice...   \n",
       "105    bianca i need to talk to you i need to tell you   \n",
       "106                                      can we go now   \n",
       "107                  you were so completely unbalanced   \n",
       "108     it was shakespeare maybe you have heard of him   \n",
       "109    like i am supposed to know what that even means   \n",
       "\n",
       "                                               dec_inp  \\\n",
       "100  sos i do care but i am a firm believer in doin...   \n",
       "101                                  sos like you care   \n",
       "102  sos listen i know you hate having to sit home ...   \n",
       "103                                sos you are welcome   \n",
       "104  sos i really do not think i need any social ad...   \n",
       "105  sos bianca i need to talk to you i need to tel...   \n",
       "106                                  sos can we go now   \n",
       "107               sos you are so completely unbalanced   \n",
       "108  sos it is shakespeare maybe you have heard of him   \n",
       "109  sos like i am supposed to know what that even ...   \n",
       "\n",
       "                                               dec_out  \n",
       "100  i do care but i am a firm believer in doing so...  \n",
       "101                                  like you care eos  \n",
       "102  listen i know you hate having to sit home beca...  \n",
       "103                                you are welcome eos  \n",
       "104  i really do not think i need any social advice...  \n",
       "105  bianca i need to talk to you i need to tell yo...  \n",
       "106                                  can we go now eos  \n",
       "107               you are so completely unbalanced eos  \n",
       "108  it is shakespeare maybe you have heard of him eos  \n",
       "109  like i am supposed to know what that even mean...  "
      ]
     },
     "execution_count": 39,
     "metadata": {},
     "output_type": "execute_result"
    }
   ],
   "source": [
    "#https://medium.com/analytics-vidhya/encoder-decoder-seq2seq-models-clearly-explained-c34186fbf49b\n",
    "enc_dec_data=zip(data['perturbated text'].values, 'sos '+data['text'].values, data['text'].values+' eos')\n",
    "enc_dec_data=pd.DataFrame(data=enc_dec_data, columns=['enc_inp', 'dec_inp', 'dec_out'])\n",
    "enc_dec_data[100:110]"
   ]
  },
  {
   "cell_type": "code",
   "execution_count": 40,
   "id": "705a4685",
   "metadata": {},
   "outputs": [],
   "source": [
    "enc_dec_data.to_pickle(os.getcwd()+'\\data\\enc_dec_data.pkl')"
   ]
  },
  {
   "cell_type": "markdown",
   "id": "1e5218cf",
   "metadata": {},
   "source": [
    "<h2>5. Train Test Validatin Split</h2>"
   ]
  },
  {
   "cell_type": "code",
   "execution_count": 41,
   "id": "be665349",
   "metadata": {},
   "outputs": [],
   "source": [
    "from sklearn.model_selection import train_test_split\n",
    "train_data,test_data=train_test_split(enc_dec_data, test_size=0.15)\n",
    "train_data,validation_data=train_test_split(train_data, test_size=0.20)"
   ]
  },
  {
   "cell_type": "code",
   "execution_count": 42,
   "id": "428e4eb8",
   "metadata": {},
   "outputs": [
    {
     "name": "stdout",
     "output_type": "stream",
     "text": [
      "(163668, 3)\n",
      "(36104, 3)\n",
      "(40918, 3)\n"
     ]
    }
   ],
   "source": [
    "print(train_data.shape)\n",
    "print(test_data.shape)\n",
    "print(validation_data.shape)"
   ]
  },
  {
   "cell_type": "code",
   "execution_count": 43,
   "id": "1ad94bed",
   "metadata": {},
   "outputs": [],
   "source": [
    "train_data.to_pickle(os.getcwd()+'\\\\data\\\\train_data.pkl')\n",
    "train_data.to_csv(os.getcwd()+'\\\\data\\\\train_data.csv')\n",
    "test_data.to_pickle(os.getcwd()+'\\\\data\\\\test_data.pkl')\n",
    "test_data.to_csv(os.getcwd()+'\\\\data\\\\test_data.csv')\n",
    "validation_data.to_pickle(os.getcwd()+'\\\\data\\\\validation_data.pkl')\n",
    "validation_data.to_csv(os.getcwd()+'\\\\data\\\\validation_data.csv')"
   ]
  },
  {
   "cell_type": "code",
   "execution_count": 44,
   "id": "c3bb0943",
   "metadata": {},
   "outputs": [],
   "source": [
    "# We add <EOS> for a text so that tokenizer learns\n",
    "# with this we can use only one tokenizer for both decoder input and output\n",
    "\n",
    "\n",
    "train_data.iloc[0]['dec_inp']= str(train_data.iloc[0]['dec_inp'])+' eos'\n",
    "\n",
    "\n",
    "#train_data.iloc[0]['dec_out']= str(train_data.iloc[0]['dec_out'])+' eos'"
   ]
  },
  {
   "cell_type": "code",
   "execution_count": 45,
   "id": "f8900435",
   "metadata": {},
   "outputs": [
    {
     "data": {
      "text/html": [
       "<div>\n",
       "<style scoped>\n",
       "    .dataframe tbody tr th:only-of-type {\n",
       "        vertical-align: middle;\n",
       "    }\n",
       "\n",
       "    .dataframe tbody tr th {\n",
       "        vertical-align: top;\n",
       "    }\n",
       "\n",
       "    .dataframe thead th {\n",
       "        text-align: right;\n",
       "    }\n",
       "</style>\n",
       "<table border=\"1\" class=\"dataframe\">\n",
       "  <thead>\n",
       "    <tr style=\"text-align: right;\">\n",
       "      <th></th>\n",
       "      <th>enc_inp</th>\n",
       "      <th>dec_inp</th>\n",
       "      <th>dec_out</th>\n",
       "    </tr>\n",
       "  </thead>\n",
       "  <tbody>\n",
       "    <tr>\n",
       "      <th>221054</th>\n",
       "      <td>we saw each other a little while ago</td>\n",
       "      <td>sos we saw each other a little while ago</td>\n",
       "      <td>we saw each other a little while ago eos</td>\n",
       "    </tr>\n",
       "  </tbody>\n",
       "</table>\n",
       "</div>"
      ],
      "text/plain": [
       "                                     enc_inp  \\\n",
       "221054  we saw each other a little while ago   \n",
       "\n",
       "                                         dec_inp  \\\n",
       "221054  sos we saw each other a little while ago   \n",
       "\n",
       "                                         dec_out  \n",
       "221054  we saw each other a little while ago eos  "
      ]
     },
     "execution_count": 45,
     "metadata": {},
     "output_type": "execute_result"
    }
   ],
   "source": [
    "train_data.tail(1)"
   ]
  },
  {
   "cell_type": "markdown",
   "id": "6f21633e",
   "metadata": {},
   "source": [
    "<h2>5. Tokenizing, Padding and GloveVectors</h2>"
   ]
  },
  {
   "cell_type": "code",
   "execution_count": 46,
   "id": "65c63bda",
   "metadata": {},
   "outputs": [],
   "source": [
    "from tensorflow.keras.preprocessing.text import Tokenizer\n",
    "from tensorflow.keras.preprocessing.sequence import pad_sequences\n",
    "\n",
    "perturbated_text_tokernizer=Tokenizer()\n",
    "text_inp_tokernizer=Tokenizer()\n",
    "\n",
    "perturbated_text_tokernizer.fit_on_texts(train_data['enc_inp'].values)\n",
    "text_inp_tokernizer.fit_on_texts(train_data['dec_inp'].values)\n",
    "#text_inp_tokernizer.fit_on_texts(train_data['dec_out'].values)"
   ]
  },
  {
   "cell_type": "code",
   "execution_count": 47,
   "id": "d840e1bd",
   "metadata": {},
   "outputs": [],
   "source": [
    "perturbated_text_train=np.array(perturbated_text_tokernizer.texts_to_sequences(train_data['enc_inp'].values))\n",
    "text_inp_train=np.array(text_inp_tokernizer.texts_to_sequences(train_data['dec_inp'].values))\n",
    "text_out_train=np.array(text_inp_tokernizer.texts_to_sequences(train_data['dec_out'].values))"
   ]
  },
  {
   "cell_type": "code",
   "execution_count": 48,
   "id": "af4784e7",
   "metadata": {},
   "outputs": [],
   "source": [
    "perturbated_text_train = np.array(pad_sequences(perturbated_text_train,maxlen=20,padding=\"post\",truncating='post'))\n",
    "text_inp_train = np.array(pad_sequences(text_inp_train,maxlen=20,padding=\"post\",truncating='post'))\n",
    "text_out_train = np.array(pad_sequences(text_out_train,maxlen=20,padding=\"post\",truncating='post'))"
   ]
  },
  {
   "cell_type": "code",
   "execution_count": 49,
   "id": "01d177ce",
   "metadata": {},
   "outputs": [
    {
     "data": {
      "text/plain": [
       "'who that'"
      ]
     },
     "execution_count": 49,
     "metadata": {},
     "output_type": "execute_result"
    }
   ],
   "source": [
    "train_data['enc_inp'].iloc[26]"
   ]
  },
  {
   "cell_type": "code",
   "execution_count": 50,
   "id": "817594be",
   "metadata": {},
   "outputs": [
    {
     "data": {
      "text/plain": [
       "array([70,  8,  0,  0,  0,  0,  0,  0,  0,  0,  0,  0,  0,  0,  0,  0,  0,\n",
       "        0,  0,  0])"
      ]
     },
     "execution_count": 50,
     "metadata": {},
     "output_type": "execute_result"
    }
   ],
   "source": [
    "perturbated_text_train[26]"
   ]
  },
  {
   "cell_type": "code",
   "execution_count": 51,
   "id": "11ff362b",
   "metadata": {},
   "outputs": [],
   "source": [
    "pickle.dump(perturbated_text_train, open(os.getcwd()+'\\\\data\\\\perturbated_text_train.pkl','wb'))\n",
    "pickle.dump(text_inp_train, open(os.getcwd()+'\\\\data\\\\text_inp_train.pkl','wb'))\n",
    "pickle.dump(text_out_train, open(os.getcwd()+'\\\\data\\\\text_out_train.pkl','wb'))"
   ]
  },
  {
   "cell_type": "code",
   "execution_count": 52,
   "id": "ca488af7",
   "metadata": {},
   "outputs": [
    {
     "data": {
      "text/plain": [
       "2746"
      ]
     },
     "execution_count": 52,
     "metadata": {},
     "output_type": "execute_result"
    }
   ],
   "source": [
    "text_inp_tokernizer.word_index.get('francisco')"
   ]
  },
  {
   "cell_type": "code",
   "execution_count": 53,
   "id": "78b166cd",
   "metadata": {},
   "outputs": [
    {
     "data": {
      "text/plain": [
       "'who that'"
      ]
     },
     "execution_count": 53,
     "metadata": {},
     "output_type": "execute_result"
    }
   ],
   "source": [
    "train_data['enc_inp'].iloc[26]"
   ]
  },
  {
   "cell_type": "code",
   "execution_count": 54,
   "id": "2ba60d70",
   "metadata": {},
   "outputs": [
    {
     "name": "stdout",
     "output_type": "stream",
     "text": [
      "34773\n",
      "34772\n"
     ]
    }
   ],
   "source": [
    "text_inp_tokernizer_word_index=text_inp_tokernizer.word_index\n",
    "perturbated_text_tokernizer_index=perturbated_text_tokernizer.word_index\n",
    "\n",
    "pickle.dump(text_inp_tokernizer_word_index, open(os.getcwd()+'\\\\data\\\\text_inp_tokernizer_word_index.pkl','wb'))\n",
    "pickle.dump(perturbated_text_tokernizer_index, open(os.getcwd()+'\\\\data\\\\perturbated_text_tokernizer_index.pkl','wb'))\n",
    "pickle.dump(text_inp_tokernizer, open(os.getcwd()+'\\\\data\\\\text_inp_tokernizer.pkl','wb'))\n",
    "pickle.dump(perturbated_text_tokernizer, open(os.getcwd()+'\\\\data\\\\perturbated_text_tokernizer.pkl','wb'))\n",
    "\n",
    "print(len(text_inp_tokernizer_word_index))\n",
    "print(len(perturbated_text_tokernizer_index))"
   ]
  },
  {
   "cell_type": "code",
   "execution_count": 55,
   "id": "60376c12",
   "metadata": {},
   "outputs": [
    {
     "data": {
      "text/plain": [
       "\"glove_vectors=dict()\\nfilename=os.getcwd()+'/data/glove.6B.300d.txt'\\nwith open(filename, 'rb') as f:\\n    for l in f:\\n        glove_vector = l.split()\\n        glove_word = glove_vector[0]\\n        glove_coefs = np.asarray(glove_vector[1:], dtype='float32')\\n        glove_vectors[glove_word] = glove_coefs\\n    f.close()\\n    \""
      ]
     },
     "execution_count": 55,
     "metadata": {},
     "output_type": "execute_result"
    }
   ],
   "source": [
    "#https://machinelearningmastery.com/use-word-embedding-layers-deep-learning-keras/\n",
    "'''glove_vectors=dict()\n",
    "filename=os.getcwd()+'/data/glove.6B.300d.txt'\n",
    "with open(filename, 'rb') as f:\n",
    "    for l in f:\n",
    "        glove_vector = l.split()\n",
    "        glove_word = glove_vector[0]\n",
    "        glove_coefs = np.asarray(glove_vector[1:], dtype='float32')\n",
    "        glove_vectors[glove_word] = glove_coefs\n",
    "    f.close()\n",
    "    '''"
   ]
  },
  {
   "cell_type": "code",
   "execution_count": 56,
   "id": "a9454473",
   "metadata": {},
   "outputs": [],
   "source": [
    "#pickle.dump(glove_vectors, open(os.getcwd()+'\\\\data\\\\glove_vectors.pkl','wb'))"
   ]
  },
  {
   "cell_type": "code",
   "execution_count": 57,
   "id": "dc1224de",
   "metadata": {},
   "outputs": [],
   "source": [
    "f = open('./data/glove_vectors.pkl','rb')\n",
    "glove_vectors = pickle.load(f)\n",
    "f.close()"
   ]
  },
  {
   "cell_type": "code",
   "execution_count": 58,
   "id": "b578825f",
   "metadata": {},
   "outputs": [
    {
     "data": {
      "text/plain": [
       "400000"
      ]
     },
     "execution_count": 58,
     "metadata": {},
     "output_type": "execute_result"
    }
   ],
   "source": [
    "#glove_vectors.get('book')\n",
    "len(glove_vectors)"
   ]
  },
  {
   "cell_type": "code",
   "execution_count": 59,
   "id": "3efbb291",
   "metadata": {},
   "outputs": [],
   "source": [
    "#https://www.geeksforgeeks.org/pre-trained-word-embedding-using-glove-in-nlp-models/\n",
    "\n",
    "text_embed_matrix=np.zeros((len(text_inp_tokernizer_word_index)+1, 300))\n",
    "for word, index in text_inp_tokernizer_word_index.items():\n",
    "    if glove_vectors.get(word) is not None:\n",
    "        text_embed_matrix[index]=glove_vectors.get(word)\n",
    "        \n",
    "perturbated_text_embed_matrix=np.zeros((len(perturbated_text_tokernizer_index)+1, 300))\n",
    "for word, index in perturbated_text_tokernizer_index.items():\n",
    "    if glove_vectors.get(word) is not None:\n",
    "        perturbated_text_embed_matrix[index]=glove_vectors.get(word)\n"
   ]
  },
  {
   "cell_type": "code",
   "execution_count": 60,
   "id": "87548e05",
   "metadata": {},
   "outputs": [
    {
     "name": "stdout",
     "output_type": "stream",
     "text": [
      "(34774, 300)\n",
      "(34773, 300)\n"
     ]
    }
   ],
   "source": [
    "print(text_embed_matrix.shape)\n",
    "print(perturbated_text_embed_matrix.shape)"
   ]
  },
  {
   "cell_type": "code",
   "execution_count": 61,
   "id": "47292647",
   "metadata": {},
   "outputs": [],
   "source": [
    "pickle.dump(text_embed_matrix, open(os.getcwd()+'\\\\data\\\\text_embed_matrix.pkl','wb'))"
   ]
  },
  {
   "cell_type": "code",
   "execution_count": 62,
   "id": "30716fef",
   "metadata": {},
   "outputs": [],
   "source": [
    "pickle.dump(perturbated_text_embed_matrix, open(os.getcwd()+'\\\\data\\\\perturbated_text_embed_matrix.pkl','wb'))"
   ]
  },
  {
   "cell_type": "code",
   "execution_count": 63,
   "id": "3ecaa382",
   "metadata": {},
   "outputs": [],
   "source": [
    "f = open('./data/text_embed_matrix.pkl','rb')\n",
    "text_embed_matrix = pickle.load(f)\n",
    "f.close()"
   ]
  },
  {
   "cell_type": "code",
   "execution_count": 64,
   "id": "d6ed52f3",
   "metadata": {},
   "outputs": [],
   "source": [
    "f = open('./data/perturbated_text_embed_matrix.pkl','rb')\n",
    "perturbated_text_embed_matrix = pickle.load(f)\n",
    "f.close()"
   ]
  },
  {
   "cell_type": "code",
   "execution_count": 65,
   "id": "6d442154",
   "metadata": {},
   "outputs": [
    {
     "data": {
      "text/plain": [
       "\"import io\\nimport pickle\\nimport os\\nfrom tqdm import tqdm\\n\\ndef load_vectors(fname):\\n    fin = io.open(fname, 'r', encoding='utf-8', newline='\\n', errors='ignore')\\n    n, d = map(int, fin.readline().split())\\n    data = {}\\n    #for line in tqdm(fin):\\n    for i, line in enumerate(tqdm(fin)):\\n        tokens = line.rstrip().split(' ')\\n        data[tokens[0]] = map(float, tokens[1:])\\n        if (i%50000==0):\\n            print(i)\\n    fin.close()\\n    return data\\n\\nfname=os.getcwd()+'\\\\data\\\\wiki-news-300d-1M.vec'\\nft_vectors=load_vectors(fname)\""
      ]
     },
     "execution_count": 65,
     "metadata": {},
     "output_type": "execute_result"
    }
   ],
   "source": [
    "#https://fasttext.cc/docs/en/crawl-vectors.html\n",
    "'''import io\n",
    "import pickle\n",
    "import os\n",
    "from tqdm import tqdm\n",
    "\n",
    "def load_vectors(fname):\n",
    "    fin = io.open(fname, 'r', encoding='utf-8', newline='\\n', errors='ignore')\n",
    "    n, d = map(int, fin.readline().split())\n",
    "    data = {}\n",
    "    #for line in tqdm(fin):\n",
    "    for i, line in enumerate(tqdm(fin)):\n",
    "        tokens = line.rstrip().split(' ')\n",
    "        data[tokens[0]] = map(float, tokens[1:])\n",
    "        if (i%50000==0):\n",
    "            print(i)\n",
    "    fin.close()\n",
    "    return data\n",
    "\n",
    "fname=os.getcwd()+'\\\\data\\\\wiki-news-300d-1M.vec'\n",
    "ft_vectors=load_vectors(fname)'''"
   ]
  }
 ],
 "metadata": {
  "kernelspec": {
   "display_name": "Python 3 (ipykernel)",
   "language": "python",
   "name": "python3"
  },
  "language_info": {
   "codemirror_mode": {
    "name": "ipython",
    "version": 3
   },
   "file_extension": ".py",
   "mimetype": "text/x-python",
   "name": "python",
   "nbconvert_exporter": "python",
   "pygments_lexer": "ipython3",
   "version": "3.9.13"
  }
 },
 "nbformat": 4,
 "nbformat_minor": 5
}
